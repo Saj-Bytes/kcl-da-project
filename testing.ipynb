{
 "cells": [
  {
   "cell_type": "code",
   "execution_count": 86,
   "metadata": {},
   "outputs": [],
   "source": [
    "import pandas as pd\n",
    "import numpy as np"
   ]
  },
  {
   "cell_type": "code",
   "execution_count": 87,
   "metadata": {},
   "outputs": [
    {
     "name": "stdout",
     "output_type": "stream",
     "text": [
      "        Code                  Area  Year  \\\n",
      "0  E09000001        City of London  2004   \n",
      "1  E09000002  Barking and Dagenham  2004   \n",
      "2  E09000003                Barnet  2004   \n",
      "3  E09000004                Bexley  2004   \n",
      "4  E09000005                 Brent  2004   \n",
      "\n",
      "  Qualifications of working age population (16-64)  number denominator  \\\n",
      "0                                            NVQ4+   3,500       4,300   \n",
      "1                                            NVQ4+  14,300     101,800   \n",
      "2                                            NVQ4+  77,100     206,600   \n",
      "3                                            NVQ4+  21,400     134,900   \n",
      "4                                            NVQ4+  43,800     178,400   \n",
      "\n",
      "  percent confidence  \n",
      "0    80.6          *  \n",
      "1    14.1          3  \n",
      "2    37.3          4  \n",
      "3    15.8        3.3  \n",
      "4    24.5        3.4  \n"
     ]
    }
   ],
   "source": [
    "df = pd.read_csv(\"Working-age.csv\")\n",
    "\n",
    "print(df.head())"
   ]
  },
  {
   "cell_type": "markdown",
   "metadata": {},
   "source": [
    "Renaming the 'qualifications of working age population (16-64) to 'Qualifications' to make it easier to work with"
   ]
  },
  {
   "cell_type": "code",
   "execution_count": 88,
   "metadata": {},
   "outputs": [
    {
     "name": "stdout",
     "output_type": "stream",
     "text": [
      "           Code                  Area  Year          Qualifications   number  \\\n",
      "0     E09000001        City of London  2004                   NVQ4+    3,500   \n",
      "1     E09000002  Barking and Dagenham  2004                   NVQ4+   14,300   \n",
      "2     E09000003                Barnet  2004                   NVQ4+   77,100   \n",
      "3     E09000004                Bexley  2004                   NVQ4+   21,400   \n",
      "4     E09000005                 Brent  2004                   NVQ4+   43,800   \n",
      "...         ...                   ...   ...                     ...      ...   \n",
      "6239  S92000003              Scotland  2021  with no qualifications   263800   \n",
      "6240  N92000002      Northern Ireland  2021  with no qualifications   137100   \n",
      "6241  K04000001     England and Wales  2021  with no qualifications  2368400   \n",
      "6242  K03000001         Great Britain  2021  with no qualifications  2632300   \n",
      "6243  K02000001        United Kingdom  2021  with no qualifications  2769400   \n",
      "\n",
      "     denominator percent confidence  \n",
      "0          4,300    80.6          *  \n",
      "1        101,800    14.1          3  \n",
      "2        206,600    37.3          4  \n",
      "3        134,900    15.8        3.3  \n",
      "4        178,400    24.5        3.4  \n",
      "...          ...     ...        ...  \n",
      "6239     3405000     7.7        0.8  \n",
      "6240     1153800    11.9        1.4  \n",
      "6241    36614900     6.5        0.2  \n",
      "6242    40019900     6.6        0.2  \n",
      "6243    41173700     6.7        0.2  \n",
      "\n",
      "[6244 rows x 8 columns]\n"
     ]
    }
   ],
   "source": [
    "df.rename(columns={'Qualifications of working age population (16-64)': 'Qualifications'}, inplace=True)\n",
    "print(df)"
   ]
  },
  {
   "cell_type": "markdown",
   "metadata": {},
   "source": [
    "Dropping Columns that are not relevant"
   ]
  },
  {
   "cell_type": "markdown",
   "metadata": {},
   "source": [
    "- Dropping the ID Column as this is just an identifier column, and wont be relevant for the analysis\n",
    "- Does not impact the result/analysis"
   ]
  },
  {
   "cell_type": "code",
   "execution_count": 89,
   "metadata": {},
   "outputs": [],
   "source": [
    "df.drop(columns=[\"Code\"], inplace=True)\n",
    "df.drop(columns=[\"confidence\"], inplace=True)\n"
   ]
  },
  {
   "cell_type": "code",
   "execution_count": 90,
   "metadata": {},
   "outputs": [
    {
     "data": {
      "text/plain": [
       "(6244, 6)"
      ]
     },
     "execution_count": 90,
     "metadata": {},
     "output_type": "execute_result"
    }
   ],
   "source": [
    "df.shape"
   ]
  },
  {
   "cell_type": "markdown",
   "metadata": {},
   "source": [
    "Some values have commas for when they are thousands and hundred\n",
    "- We need these are whole numbers to avoid issues with analysis"
   ]
  },
  {
   "cell_type": "code",
   "execution_count": 91,
   "metadata": {},
   "outputs": [],
   "source": [
    "df[\"number\"] = df[\"number\"].str.replace(\",\", \"\")\n",
    "df[\"denominator\"] = df[\"denominator\"].str.replace(\",\", \"\")"
   ]
  },
  {
   "cell_type": "code",
   "execution_count": 92,
   "metadata": {},
   "outputs": [
    {
     "data": {
      "text/html": [
       "<div>\n",
       "<style scoped>\n",
       "    .dataframe tbody tr th:only-of-type {\n",
       "        vertical-align: middle;\n",
       "    }\n",
       "\n",
       "    .dataframe tbody tr th {\n",
       "        vertical-align: top;\n",
       "    }\n",
       "\n",
       "    .dataframe thead th {\n",
       "        text-align: right;\n",
       "    }\n",
       "</style>\n",
       "<table border=\"1\" class=\"dataframe\">\n",
       "  <thead>\n",
       "    <tr style=\"text-align: right;\">\n",
       "      <th></th>\n",
       "      <th>Area</th>\n",
       "      <th>Year</th>\n",
       "      <th>Qualifications</th>\n",
       "      <th>number</th>\n",
       "      <th>denominator</th>\n",
       "      <th>percent</th>\n",
       "    </tr>\n",
       "  </thead>\n",
       "  <tbody>\n",
       "    <tr>\n",
       "      <th>0</th>\n",
       "      <td>City of London</td>\n",
       "      <td>2004</td>\n",
       "      <td>NVQ4+</td>\n",
       "      <td>3500</td>\n",
       "      <td>4300</td>\n",
       "      <td>80.6</td>\n",
       "    </tr>\n",
       "    <tr>\n",
       "      <th>1</th>\n",
       "      <td>Barking and Dagenham</td>\n",
       "      <td>2004</td>\n",
       "      <td>NVQ4+</td>\n",
       "      <td>14300</td>\n",
       "      <td>101800</td>\n",
       "      <td>14.1</td>\n",
       "    </tr>\n",
       "    <tr>\n",
       "      <th>2</th>\n",
       "      <td>Barnet</td>\n",
       "      <td>2004</td>\n",
       "      <td>NVQ4+</td>\n",
       "      <td>77100</td>\n",
       "      <td>206600</td>\n",
       "      <td>37.3</td>\n",
       "    </tr>\n",
       "    <tr>\n",
       "      <th>3</th>\n",
       "      <td>Bexley</td>\n",
       "      <td>2004</td>\n",
       "      <td>NVQ4+</td>\n",
       "      <td>21400</td>\n",
       "      <td>134900</td>\n",
       "      <td>15.8</td>\n",
       "    </tr>\n",
       "    <tr>\n",
       "      <th>4</th>\n",
       "      <td>Brent</td>\n",
       "      <td>2004</td>\n",
       "      <td>NVQ4+</td>\n",
       "      <td>43800</td>\n",
       "      <td>178400</td>\n",
       "      <td>24.5</td>\n",
       "    </tr>\n",
       "    <tr>\n",
       "      <th>...</th>\n",
       "      <td>...</td>\n",
       "      <td>...</td>\n",
       "      <td>...</td>\n",
       "      <td>...</td>\n",
       "      <td>...</td>\n",
       "      <td>...</td>\n",
       "    </tr>\n",
       "    <tr>\n",
       "      <th>6239</th>\n",
       "      <td>Scotland</td>\n",
       "      <td>2021</td>\n",
       "      <td>with no qualifications</td>\n",
       "      <td>263800</td>\n",
       "      <td>3405000</td>\n",
       "      <td>7.7</td>\n",
       "    </tr>\n",
       "    <tr>\n",
       "      <th>6240</th>\n",
       "      <td>Northern Ireland</td>\n",
       "      <td>2021</td>\n",
       "      <td>with no qualifications</td>\n",
       "      <td>137100</td>\n",
       "      <td>1153800</td>\n",
       "      <td>11.9</td>\n",
       "    </tr>\n",
       "    <tr>\n",
       "      <th>6241</th>\n",
       "      <td>England and Wales</td>\n",
       "      <td>2021</td>\n",
       "      <td>with no qualifications</td>\n",
       "      <td>2368400</td>\n",
       "      <td>36614900</td>\n",
       "      <td>6.5</td>\n",
       "    </tr>\n",
       "    <tr>\n",
       "      <th>6242</th>\n",
       "      <td>Great Britain</td>\n",
       "      <td>2021</td>\n",
       "      <td>with no qualifications</td>\n",
       "      <td>2632300</td>\n",
       "      <td>40019900</td>\n",
       "      <td>6.6</td>\n",
       "    </tr>\n",
       "    <tr>\n",
       "      <th>6243</th>\n",
       "      <td>United Kingdom</td>\n",
       "      <td>2021</td>\n",
       "      <td>with no qualifications</td>\n",
       "      <td>2769400</td>\n",
       "      <td>41173700</td>\n",
       "      <td>6.7</td>\n",
       "    </tr>\n",
       "  </tbody>\n",
       "</table>\n",
       "<p>6244 rows × 6 columns</p>\n",
       "</div>"
      ],
      "text/plain": [
       "                      Area  Year          Qualifications   number denominator  \\\n",
       "0           City of London  2004                   NVQ4+     3500        4300   \n",
       "1     Barking and Dagenham  2004                   NVQ4+    14300      101800   \n",
       "2                   Barnet  2004                   NVQ4+    77100      206600   \n",
       "3                   Bexley  2004                   NVQ4+    21400      134900   \n",
       "4                    Brent  2004                   NVQ4+    43800      178400   \n",
       "...                    ...   ...                     ...      ...         ...   \n",
       "6239              Scotland  2021  with no qualifications   263800     3405000   \n",
       "6240      Northern Ireland  2021  with no qualifications   137100     1153800   \n",
       "6241     England and Wales  2021  with no qualifications  2368400    36614900   \n",
       "6242         Great Britain  2021  with no qualifications  2632300    40019900   \n",
       "6243        United Kingdom  2021  with no qualifications  2769400    41173700   \n",
       "\n",
       "     percent  \n",
       "0       80.6  \n",
       "1       14.1  \n",
       "2       37.3  \n",
       "3       15.8  \n",
       "4       24.5  \n",
       "...      ...  \n",
       "6239     7.7  \n",
       "6240    11.9  \n",
       "6241     6.5  \n",
       "6242     6.6  \n",
       "6243     6.7  \n",
       "\n",
       "[6244 rows x 6 columns]"
      ]
     },
     "execution_count": 92,
     "metadata": {},
     "output_type": "execute_result"
    }
   ],
   "source": [
    "df"
   ]
  },
  {
   "cell_type": "code",
   "execution_count": 93,
   "metadata": {},
   "outputs": [
    {
     "name": "stdout",
     "output_type": "stream",
     "text": [
      "<class 'pandas.core.frame.DataFrame'>\n",
      "RangeIndex: 6244 entries, 0 to 6243\n",
      "Data columns (total 6 columns):\n",
      " #   Column          Non-Null Count  Dtype \n",
      "---  ------          --------------  ----- \n",
      " 0   Area            6244 non-null   object\n",
      " 1   Year            6244 non-null   int64 \n",
      " 2   Qualifications  6244 non-null   object\n",
      " 3   number          6244 non-null   object\n",
      " 4   denominator     6244 non-null   object\n",
      " 5   percent         6244 non-null   object\n",
      "dtypes: int64(1), object(5)\n",
      "memory usage: 292.8+ KB\n"
     ]
    }
   ],
   "source": [
    "df.info()"
   ]
  },
  {
   "cell_type": "markdown",
   "metadata": {},
   "source": [
    "Check for null values\n",
    "- we have some values where there are null values, but they have been replaced with ! \n",
    "- replacing these with Nan to identify the null values"
   ]
  },
  {
   "cell_type": "code",
   "execution_count": 94,
   "metadata": {},
   "outputs": [],
   "source": [
    "df.replace(\"!\", np.nan, inplace=True)\n",
    "df.replace(\"~\", np.nan, inplace=True)\n",
    "df.replace(\"#\", np.nan, inplace=True)\n"
   ]
  },
  {
   "cell_type": "markdown",
   "metadata": {},
   "source": [
    "Count of the null Values"
   ]
  },
  {
   "cell_type": "code",
   "execution_count": 95,
   "metadata": {},
   "outputs": [
    {
     "name": "stdout",
     "output_type": "stream",
     "text": [
      "Area                0\n",
      "Year                0\n",
      "Qualifications      0\n",
      "number            198\n",
      "denominator         0\n",
      "percent           193\n",
      "dtype: int64\n"
     ]
    }
   ],
   "source": [
    "print(df.isnull().sum())"
   ]
  },
  {
   "cell_type": "code",
   "execution_count": 96,
   "metadata": {},
   "outputs": [
    {
     "data": {
      "text/plain": [
       "(6244, 6)"
      ]
     },
     "execution_count": 96,
     "metadata": {},
     "output_type": "execute_result"
    }
   ],
   "source": [
    "df.shape"
   ]
  },
  {
   "cell_type": "markdown",
   "metadata": {},
   "source": [
    "Deleting the rows with Null values"
   ]
  },
  {
   "cell_type": "code",
   "execution_count": 97,
   "metadata": {},
   "outputs": [],
   "source": [
    "df.dropna(inplace=True)"
   ]
  },
  {
   "cell_type": "code",
   "execution_count": 98,
   "metadata": {},
   "outputs": [
    {
     "data": {
      "text/plain": [
       "(6046, 6)"
      ]
     },
     "execution_count": 98,
     "metadata": {},
     "output_type": "execute_result"
    }
   ],
   "source": [
    "df.shape"
   ]
  },
  {
   "cell_type": "code",
   "execution_count": 99,
   "metadata": {},
   "outputs": [
    {
     "name": "stdout",
     "output_type": "stream",
     "text": [
      "Area              0\n",
      "Year              0\n",
      "Qualifications    0\n",
      "number            0\n",
      "denominator       0\n",
      "percent           0\n",
      "dtype: int64\n"
     ]
    }
   ],
   "source": [
    "print(df.isnull().sum())"
   ]
  },
  {
   "cell_type": "markdown",
   "metadata": {},
   "source": [
    "Checking Datatypes"
   ]
  },
  {
   "cell_type": "code",
   "execution_count": 100,
   "metadata": {},
   "outputs": [
    {
     "data": {
      "text/plain": [
       "Area              object\n",
       "Year               int64\n",
       "Qualifications    object\n",
       "number            object\n",
       "denominator       object\n",
       "percent           object\n",
       "dtype: object"
      ]
     },
     "execution_count": 100,
     "metadata": {},
     "output_type": "execute_result"
    }
   ],
   "source": [
    "df.dtypes"
   ]
  },
  {
   "cell_type": "markdown",
   "metadata": {},
   "source": [
    "Some columns do not have the correct datatype, so we will convert them"
   ]
  },
  {
   "cell_type": "code",
   "execution_count": 101,
   "metadata": {},
   "outputs": [
    {
     "data": {
      "text/plain": [
       "0          3500\n",
       "1         14300\n",
       "2         77100\n",
       "3         21400\n",
       "4         43800\n",
       "         ...   \n",
       "6239     263800\n",
       "6240     137100\n",
       "6241    2368400\n",
       "6242    2632300\n",
       "6243    2769400\n",
       "Name: number, Length: 6046, dtype: int64"
      ]
     },
     "execution_count": 101,
     "metadata": {},
     "output_type": "execute_result"
    }
   ],
   "source": [
    "df[\"number\"].astype('int64')"
   ]
  },
  {
   "cell_type": "code",
   "execution_count": 102,
   "metadata": {},
   "outputs": [],
   "source": [
    "#Converting to category Datatype\n",
    "df[\"Area\"] = df[\"Area\"].astype('category')\n",
    "df[\"Year\"] = df[\"Year\"].astype('category')\n",
    "df[\"Qualifications\"] = df[\"Qualifications\"].astype('category')\n",
    "\n",
    "#Converting to integers / float\n",
    "df[\"number\"] = df[\"number\"].astype('int')\n",
    "df[\"denominator\"] = df[\"denominator\"].astype('int64')\n",
    "df[\"percent\"] = df[\"percent\"].astype('float')\n"
   ]
  },
  {
   "cell_type": "code",
   "execution_count": 103,
   "metadata": {},
   "outputs": [
    {
     "data": {
      "text/plain": [
       "Area              category\n",
       "Year              category\n",
       "Qualifications    category\n",
       "number               int64\n",
       "denominator          int64\n",
       "percent            float64\n",
       "dtype: object"
      ]
     },
     "execution_count": 103,
     "metadata": {},
     "output_type": "execute_result"
    }
   ],
   "source": [
    "df.dtypes"
   ]
  },
  {
   "cell_type": "code",
   "execution_count": 104,
   "metadata": {},
   "outputs": [
    {
     "data": {
      "text/html": [
       "<div>\n",
       "<style scoped>\n",
       "    .dataframe tbody tr th:only-of-type {\n",
       "        vertical-align: middle;\n",
       "    }\n",
       "\n",
       "    .dataframe tbody tr th {\n",
       "        vertical-align: top;\n",
       "    }\n",
       "\n",
       "    .dataframe thead th {\n",
       "        text-align: right;\n",
       "    }\n",
       "</style>\n",
       "<table border=\"1\" class=\"dataframe\">\n",
       "  <thead>\n",
       "    <tr style=\"text-align: right;\">\n",
       "      <th></th>\n",
       "      <th>Area</th>\n",
       "      <th>Year</th>\n",
       "      <th>Qualifications</th>\n",
       "      <th>number</th>\n",
       "      <th>denominator</th>\n",
       "      <th>percent</th>\n",
       "    </tr>\n",
       "  </thead>\n",
       "  <tbody>\n",
       "    <tr>\n",
       "      <th>0</th>\n",
       "      <td>City of London</td>\n",
       "      <td>2004</td>\n",
       "      <td>NVQ4+</td>\n",
       "      <td>3500</td>\n",
       "      <td>4300</td>\n",
       "      <td>80.6</td>\n",
       "    </tr>\n",
       "    <tr>\n",
       "      <th>1</th>\n",
       "      <td>Barking and Dagenham</td>\n",
       "      <td>2004</td>\n",
       "      <td>NVQ4+</td>\n",
       "      <td>14300</td>\n",
       "      <td>101800</td>\n",
       "      <td>14.1</td>\n",
       "    </tr>\n",
       "    <tr>\n",
       "      <th>2</th>\n",
       "      <td>Barnet</td>\n",
       "      <td>2004</td>\n",
       "      <td>NVQ4+</td>\n",
       "      <td>77100</td>\n",
       "      <td>206600</td>\n",
       "      <td>37.3</td>\n",
       "    </tr>\n",
       "    <tr>\n",
       "      <th>3</th>\n",
       "      <td>Bexley</td>\n",
       "      <td>2004</td>\n",
       "      <td>NVQ4+</td>\n",
       "      <td>21400</td>\n",
       "      <td>134900</td>\n",
       "      <td>15.8</td>\n",
       "    </tr>\n",
       "    <tr>\n",
       "      <th>4</th>\n",
       "      <td>Brent</td>\n",
       "      <td>2004</td>\n",
       "      <td>NVQ4+</td>\n",
       "      <td>43800</td>\n",
       "      <td>178400</td>\n",
       "      <td>24.5</td>\n",
       "    </tr>\n",
       "    <tr>\n",
       "      <th>...</th>\n",
       "      <td>...</td>\n",
       "      <td>...</td>\n",
       "      <td>...</td>\n",
       "      <td>...</td>\n",
       "      <td>...</td>\n",
       "      <td>...</td>\n",
       "    </tr>\n",
       "    <tr>\n",
       "      <th>6239</th>\n",
       "      <td>Scotland</td>\n",
       "      <td>2021</td>\n",
       "      <td>with no qualifications</td>\n",
       "      <td>263800</td>\n",
       "      <td>3405000</td>\n",
       "      <td>7.7</td>\n",
       "    </tr>\n",
       "    <tr>\n",
       "      <th>6240</th>\n",
       "      <td>Northern Ireland</td>\n",
       "      <td>2021</td>\n",
       "      <td>with no qualifications</td>\n",
       "      <td>137100</td>\n",
       "      <td>1153800</td>\n",
       "      <td>11.9</td>\n",
       "    </tr>\n",
       "    <tr>\n",
       "      <th>6241</th>\n",
       "      <td>England and Wales</td>\n",
       "      <td>2021</td>\n",
       "      <td>with no qualifications</td>\n",
       "      <td>2368400</td>\n",
       "      <td>36614900</td>\n",
       "      <td>6.5</td>\n",
       "    </tr>\n",
       "    <tr>\n",
       "      <th>6242</th>\n",
       "      <td>Great Britain</td>\n",
       "      <td>2021</td>\n",
       "      <td>with no qualifications</td>\n",
       "      <td>2632300</td>\n",
       "      <td>40019900</td>\n",
       "      <td>6.6</td>\n",
       "    </tr>\n",
       "    <tr>\n",
       "      <th>6243</th>\n",
       "      <td>United Kingdom</td>\n",
       "      <td>2021</td>\n",
       "      <td>with no qualifications</td>\n",
       "      <td>2769400</td>\n",
       "      <td>41173700</td>\n",
       "      <td>6.7</td>\n",
       "    </tr>\n",
       "  </tbody>\n",
       "</table>\n",
       "<p>6046 rows × 6 columns</p>\n",
       "</div>"
      ],
      "text/plain": [
       "                      Area  Year          Qualifications   number  \\\n",
       "0           City of London  2004                   NVQ4+     3500   \n",
       "1     Barking and Dagenham  2004                   NVQ4+    14300   \n",
       "2                   Barnet  2004                   NVQ4+    77100   \n",
       "3                   Bexley  2004                   NVQ4+    21400   \n",
       "4                    Brent  2004                   NVQ4+    43800   \n",
       "...                    ...   ...                     ...      ...   \n",
       "6239              Scotland  2021  with no qualifications   263800   \n",
       "6240      Northern Ireland  2021  with no qualifications   137100   \n",
       "6241     England and Wales  2021  with no qualifications  2368400   \n",
       "6242         Great Britain  2021  with no qualifications  2632300   \n",
       "6243        United Kingdom  2021  with no qualifications  2769400   \n",
       "\n",
       "      denominator  percent  \n",
       "0            4300     80.6  \n",
       "1          101800     14.1  \n",
       "2          206600     37.3  \n",
       "3          134900     15.8  \n",
       "4          178400     24.5  \n",
       "...           ...      ...  \n",
       "6239      3405000      7.7  \n",
       "6240      1153800     11.9  \n",
       "6241     36614900      6.5  \n",
       "6242     40019900      6.6  \n",
       "6243     41173700      6.7  \n",
       "\n",
       "[6046 rows x 6 columns]"
      ]
     },
     "execution_count": 104,
     "metadata": {},
     "output_type": "execute_result"
    }
   ],
   "source": [
    "df"
   ]
  },
  {
   "cell_type": "code",
   "execution_count": 105,
   "metadata": {},
   "outputs": [
    {
     "data": {
      "text/plain": [
       "11"
      ]
     },
     "execution_count": 105,
     "metadata": {},
     "output_type": "execute_result"
    }
   ],
   "source": [
    "\n",
    "df['Qualifications'].nunique()"
   ]
  },
  {
   "cell_type": "markdown",
   "metadata": {},
   "source": [
    "we should only have 7 unique elements in the qualifications column but we have 11"
   ]
  },
  {
   "cell_type": "code",
   "execution_count": 106,
   "metadata": {},
   "outputs": [
    {
     "name": "stdout",
     "output_type": "stream",
     "text": [
      "['NVQ4+' 'NVQ3 only' 'Trade Apprenticeships' 'NVQ2 only' 'NVQ1 only'\n",
      " 'with other qualifications' 'with no qualifications' 'NVQ2 only '\n",
      " 'other qualifications' 'no qualifications' ' NVQ4+ ']\n"
     ]
    }
   ],
   "source": [
    "\n",
    "values = df['Qualifications'].astype(str).unique()\n",
    "print(values)"
   ]
  },
  {
   "cell_type": "markdown",
   "metadata": {},
   "source": [
    "We have repeated elements\n",
    "- 'NVQ4+' and 'NVQ4+ '\n",
    "- 'no qualifications' and 'with no qualifications'\n",
    "- 'other qualifications' and 'with other qualifications'\n",
    "- Removing 'only'"
   ]
  },
  {
   "cell_type": "code",
   "execution_count": null,
   "metadata": {},
   "outputs": [],
   "source": [
    "df['Qualifications'] = df['Qualifications'].str.strip() #removing extra spaces\n",
    "df[\"Qualifications\"] = df[\"Qualifications\"].str.replace(\"only \", \"\") #removing 'only'\n",
    "df[\"Qualifications\"] = df[\"Qualifications\"].str.replace(\"with \", \"\") #removing 'with'\n"
   ]
  },
  {
   "cell_type": "code",
   "execution_count": 108,
   "metadata": {},
   "outputs": [
    {
     "name": "stdout",
     "output_type": "stream",
     "text": [
      "['NVQ4+' 'NVQ3 only' 'Trade Apprenticeships' 'NVQ2 only' 'NVQ1 only'\n",
      " 'other qualifications' 'no qualifications']\n"
     ]
    }
   ],
   "source": [
    "values = df['Qualifications'].astype(str).unique()\n",
    "print(values)"
   ]
  },
  {
   "cell_type": "code",
   "execution_count": 109,
   "metadata": {},
   "outputs": [
    {
     "data": {
      "text/plain": [
       "7"
      ]
     },
     "execution_count": 109,
     "metadata": {},
     "output_type": "execute_result"
    }
   ],
   "source": [
    "df['Qualifications'].nunique()"
   ]
  },
  {
   "cell_type": "code",
   "execution_count": 110,
   "metadata": {},
   "outputs": [],
   "source": [
    "df.to_csv(\"transformed.csv\")"
   ]
  },
  {
   "cell_type": "code",
   "execution_count": null,
   "metadata": {},
   "outputs": [],
   "source": []
  }
 ],
 "metadata": {
  "kernelspec": {
   "display_name": "base",
   "language": "python",
   "name": "python3"
  },
  "language_info": {
   "codemirror_mode": {
    "name": "ipython",
    "version": 3
   },
   "file_extension": ".py",
   "mimetype": "text/x-python",
   "name": "python",
   "nbconvert_exporter": "python",
   "pygments_lexer": "ipython3",
   "version": "3.12.3"
  }
 },
 "nbformat": 4,
 "nbformat_minor": 2
}
